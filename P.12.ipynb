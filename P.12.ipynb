{
 "cells": [
  {
   "cell_type": "code",
   "execution_count": 3,
   "metadata": {},
   "outputs": [],
   "source": [
    "import math\n",
    "\n",
    "layer_output_1 = [0.7, 1.1, 0.9]\n",
    "# Define E value\n",
    "E = math.e"
   ]
  },
  {
   "cell_type": "code",
   "execution_count": 6,
   "metadata": {},
   "outputs": [
    {
     "name": "stdout",
     "output_type": "stream",
     "text": [
      "[0.26930749917773783, 0.4017595785333555, 0.3289329222889067]\n"
     ]
    }
   ],
   "source": [
    "ex_values = []\n",
    "\n",
    "for ouput in layer_output_1:\n",
    "    ex_value = E ** ouput\n",
    "    ex_values.append(ex_value)\n",
    "\n",
    "sum_ex_values = sum(ex_values)\n",
    "\n",
    "probabilities = []\n",
    "for ex_value in ex_values:\n",
    "    probabilities.append(ex_value / sum_ex_values)\n",
    "\n",
    "print(probabilities)"
   ]
  },
  {
   "cell_type": "markdown",
   "metadata": {},
   "source": [
    "- Created as Class"
   ]
  },
  {
   "cell_type": "code",
   "execution_count": 8,
   "metadata": {},
   "outputs": [],
   "source": [
    "class Activation_Softmax:\n",
    "\n",
    "    # forward pass\n",
    "    def forward(self, inputs):\n",
    "        # calculate exponential values\n",
    "        ex_values = [math.exp(input) for input in inputs]\n",
    "        # normalize them for each sample\n",
    "        self.output = [ex_value / sum(ex_values) for ex_value in ex_values]"
   ]
  },
  {
   "cell_type": "code",
   "execution_count": 9,
   "metadata": {},
   "outputs": [
    {
     "name": "stdout",
     "output_type": "stream",
     "text": [
      "[0.26930749917773783, 0.4017595785333554, 0.3289329222889067]\n"
     ]
    }
   ],
   "source": [
    "softmax = Activation_Softmax()\n",
    "\n",
    "softmax.forward(layer_output_1)\n",
    "print(softmax.output)"
   ]
  }
 ],
 "metadata": {
  "kernelspec": {
   "display_name": "Python 3",
   "language": "python",
   "name": "python3"
  },
  "language_info": {
   "codemirror_mode": {
    "name": "ipython",
    "version": 3
   },
   "file_extension": ".py",
   "mimetype": "text/x-python",
   "name": "python",
   "nbconvert_exporter": "python",
   "pygments_lexer": "ipython3",
   "version": "3.12.6"
  }
 },
 "nbformat": 4,
 "nbformat_minor": 2
}
