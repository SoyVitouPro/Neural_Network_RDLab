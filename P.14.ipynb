{
 "cells": [
  {
   "cell_type": "code",
   "execution_count": 22,
   "metadata": {},
   "outputs": [
    {
     "name": "stdout",
     "output_type": "stream",
     "text": [
      "0.3121644797305582\n"
     ]
    }
   ],
   "source": [
    "import numpy as np\n",
    "import math\n",
    "\n",
    "softmax_outputs = np.array(\n",
    "    [[0.1, 0.2, 0.7],\n",
    "    [0.1, 0.8, 0.1],\n",
    "    [0.1, 0.7, 0.2]])\n",
    "\n",
    "targets = np.array([[0, 0, 1],\n",
    "                    [0, 1, 0],\n",
    "                    [0, 1, 0]])\n",
    "\n",
    "loss = [- (math.log(softmax_outputs[0][0]) * targets[0][0]) \\\n",
    "       - (math.log(softmax_outputs[0][1]) * targets[0][1])  \\\n",
    "       - (math.log(softmax_outputs[0][2]) * targets[0][2]), \n",
    "       - (math.log(softmax_outputs[1][0]) * targets[1][0]) \\\n",
    "       - (math.log(softmax_outputs[1][1]) * targets[1][1])  \\\n",
    "       - (math.log(softmax_outputs[1][2]) * targets[1][2]),\n",
    "       - (math.log(softmax_outputs[2][0]) * targets[2][0]) \\\n",
    "       - (math.log(softmax_outputs[2][1]) * targets[2][1])  \\\n",
    "       - (math.log(softmax_outputs[2][2]) * targets[2][2])]\n",
    "\n",
    "loss = np.mean(loss)\n",
    "\n",
    "\n",
    "print(loss)"
   ]
  },
  {
   "cell_type": "markdown",
   "metadata": {},
   "source": [
    "math.log(0) if it's zero will get an error, cause math operational, so you need to handle it by using clip again"
   ]
  },
  {
   "cell_type": "code",
   "execution_count": 23,
   "metadata": {},
   "outputs": [
    {
     "ename": "ValueError",
     "evalue": "math domain error",
     "output_type": "error",
     "traceback": [
      "\u001b[1;31m---------------------------------------------------------------------------\u001b[0m",
      "\u001b[1;31mValueError\u001b[0m                                Traceback (most recent call last)",
      "Cell \u001b[1;32mIn[23], line 1\u001b[0m\n\u001b[1;32m----> 1\u001b[0m \u001b[43mmath\u001b[49m\u001b[38;5;241;43m.\u001b[39;49m\u001b[43mlog\u001b[49m\u001b[43m(\u001b[49m\u001b[38;5;241;43m0\u001b[39;49m\u001b[43m)\u001b[49m\n",
      "\u001b[1;31mValueError\u001b[0m: math domain error"
     ]
    }
   ],
   "source": [
    "math.log(0)"
   ]
  },
  {
   "cell_type": "markdown",
   "metadata": {},
   "source": [
    "- Handle it by using Clip again"
   ]
  },
  {
   "cell_type": "code",
   "execution_count": 24,
   "metadata": {},
   "outputs": [
    {
     "name": "stdout",
     "output_type": "stream",
     "text": [
      "loss:  -16.11809565095832\n"
     ]
    }
   ],
   "source": [
    "x = 0\n",
    "loss = math.log(np.clip(x, 1e-7, 1 - 1e-7))\n",
    "print(\"loss: \", loss)"
   ]
  }
 ],
 "metadata": {
  "kernelspec": {
   "display_name": "Python 3",
   "language": "python",
   "name": "python3"
  },
  "language_info": {
   "codemirror_mode": {
    "name": "ipython",
    "version": 3
   },
   "file_extension": ".py",
   "mimetype": "text/x-python",
   "name": "python",
   "nbconvert_exporter": "python",
   "pygments_lexer": "ipython3",
   "version": "3.12.6"
  }
 },
 "nbformat": 4,
 "nbformat_minor": 2
}
