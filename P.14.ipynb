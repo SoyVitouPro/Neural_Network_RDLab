{
 "cells": [
  {
   "cell_type": "code",
   "execution_count": 15,
   "metadata": {},
   "outputs": [
    {
     "name": "stdout",
     "output_type": "stream",
     "text": [
      "[0.35667494393873245, 0.2231435513142097, 0.35667494393873245]\n"
     ]
    }
   ],
   "source": [
    "import numpy as np\n",
    "import math\n",
    "\n",
    "softmax_outputs = np.array(\n",
    "    [[0.1, 0.2, 0.7],\n",
    "    [0.1, 0.8, 0.1],\n",
    "    [0.1, 0.7, 0.2]])\n",
    "\n",
    "targets = np.array([[0, 0, 1],\n",
    "                    [0, 1, 0],\n",
    "                    [0, 1, 0]])\n",
    "\n",
    "loss = [- (math.log(softmax_outputs[0][0]) * targets[0][0]) \\\n",
    "       - (math.log(softmax_outputs[0][1]) * targets[0][1])  \\\n",
    "       - (math.log(softmax_outputs[0][2]) * targets[0][2]), \n",
    "       - (math.log(softmax_outputs[1][0]) * targets[1][0]) \\\n",
    "       - (math.log(softmax_outputs[1][1]) * targets[1][1])  \\\n",
    "       - (math.log(softmax_outputs[1][2]) * targets[1][2]),\n",
    "       - (math.log(softmax_outputs[2][0]) * targets[2][0]) \\\n",
    "       - (math.log(softmax_outputs[2][1]) * targets[2][1])  \\\n",
    "       - (math.log(softmax_outputs[2][2]) * targets[2][2])]\n",
    "\n",
    "\n",
    "print(loss)"
   ]
  }
 ],
 "metadata": {
  "kernelspec": {
   "display_name": "Python 3",
   "language": "python",
   "name": "python3"
  },
  "language_info": {
   "codemirror_mode": {
    "name": "ipython",
    "version": 3
   },
   "file_extension": ".py",
   "mimetype": "text/x-python",
   "name": "python",
   "nbconvert_exporter": "python",
   "pygments_lexer": "ipython3",
   "version": "3.12.6"
  }
 },
 "nbformat": 4,
 "nbformat_minor": 2
}
