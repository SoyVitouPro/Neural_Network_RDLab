{
 "cells": [
  {
   "cell_type": "code",
   "execution_count": 4,
   "metadata": {},
   "outputs": [],
   "source": [
    "inputs = [1, 2, 3]"
   ]
  },
  {
   "cell_type": "code",
   "execution_count": 2,
   "metadata": {},
   "outputs": [],
   "source": [
    "# weight_1 = [0.2, 0.8, -0.5]\n",
    "# weight_2 = [0.5, 0.1, -0.1]\n",
    "# weight_3 = [0.5, 0.1, -0.1]\n",
    "\n",
    "weights = [[0.2, 0.8, -0.5], [0.5, 0.1, -0.1], [0.5, 0.1, -0.1]]\n",
    "\n",
    "# bias_1 = 2\n",
    "# bias_2 = 0.5\n",
    "# bias_3 = 1.5\n",
    "biases = [2, 0.5, 1.5]"
   ]
  },
  {
   "cell_type": "code",
   "execution_count": 5,
   "metadata": {},
   "outputs": [],
   "source": [
    "# Output = [inputs[0] * weight_1[0] + inputs[1] * weight_1[1] + inputs[2] * weight_1[2] + bias_1,\n",
    "#     inputs[0] * weight_2[0] + inputs[1] * weight_2[1] + inputs[2] * weight_2[2] + bias_2,\n",
    "#     inputs[0] * weight_3[0] + inputs[1] * weight_3[1] + inputs[2] * weight_3[2] + bias_3]\n",
    "\n",
    "Output = []\n",
    "\n",
    "for neuron_weights, neuron_biase in zip(weights, biases):\n",
    "    layer_output = 0\n",
    "    for n_input, n_weight in zip(inputs, neuron_weights):\n",
    "        layer_output += n_input * n_weight\n",
    "    layer_output += neuron_biase\n",
    "    Output.append(layer_output)"
   ]
  },
  {
   "cell_type": "code",
   "execution_count": 6,
   "metadata": {},
   "outputs": [
    {
     "data": {
      "text/plain": [
       "[2.3, 0.8999999999999999, 1.9]"
      ]
     },
     "execution_count": 6,
     "metadata": {},
     "output_type": "execute_result"
    }
   ],
   "source": [
    "Output"
   ]
  }
 ],
 "metadata": {
  "kernelspec": {
   "display_name": "Python 3",
   "language": "python",
   "name": "python3"
  },
  "language_info": {
   "codemirror_mode": {
    "name": "ipython",
    "version": 3
   },
   "file_extension": ".py",
   "mimetype": "text/x-python",
   "name": "python",
   "nbconvert_exporter": "python",
   "pygments_lexer": "ipython3",
   "version": "3.12.6"
  }
 },
 "nbformat": 4,
 "nbformat_minor": 2
}
