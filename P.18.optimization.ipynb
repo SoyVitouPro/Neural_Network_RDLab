{
 "cells": [
  {
   "cell_type": "markdown",
   "metadata": {},
   "source": [
    "Now that the neural network is built"
   ]
  },
  {
   "cell_type": "markdown",
   "metadata": {},
   "source": [
    "- The next step is to determine how to adjust the weights and biases to decrease the\n",
    "loss.\n",
    "- Finding an intelligent way to adjust the neurons’ input’s weights and biases to minimize <br>\n",
    " loss is the main difficulty of neural networks"
   ]
  },
  {
   "cell_type": "markdown",
   "metadata": {},
   "source": [
    "### 1. First Option"
   ]
  },
  {
   "cell_type": "markdown",
   "metadata": {},
   "source": [
    "The first option you might think of is randomly changing the weights, checking the loss, <br> and\n",
    "repeating this until happy with the lowest loss found."
   ]
  },
  {
   "cell_type": "markdown",
   "metadata": {},
   "source": []
  }
 ],
 "metadata": {
  "language_info": {
   "name": "python"
  }
 },
 "nbformat": 4,
 "nbformat_minor": 2
}
