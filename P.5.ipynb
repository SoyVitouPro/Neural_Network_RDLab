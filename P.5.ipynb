{
 "cells": [
  {
   "cell_type": "code",
   "execution_count": 1,
   "metadata": {},
   "outputs": [],
   "source": [
    "import numpy as np"
   ]
  },
  {
   "cell_type": "code",
   "execution_count": 9,
   "metadata": {},
   "outputs": [],
   "source": [
    "inputs = np.array([\n",
    "    [1, 2, 3],\n",
    "    [4, 5, 6],\n",
    "    [7, 8, 9]\n",
    "])\n",
    "\n",
    "weight_1 = np.array([\n",
    "    [0.2, 0.8, -0.5],\n",
    "    [0.5, 0.1, -0.1],\n",
    "    [0.5, 0.1, -0.1]\n",
    "])\n",
    "\n",
    "weight_2 = np.array([\n",
    "    [0.1, -0.1, 0.1],\n",
    "    [0.1, -0.6, 0.1],\n",
    "    [0.1, -0.1, 0.1]\n",
    "])\n",
    "\n",
    "bias_1 = np.array([2, 0.5, 1.5])\n",
    "bias_2 = np.array([1, 1, 1])"
   ]
  },
  {
   "cell_type": "code",
   "execution_count": 10,
   "metadata": {},
   "outputs": [
    {
     "name": "stdout",
     "output_type": "stream",
     "text": [
      "[[2.3 0.9 1.9]\n",
      " [3.8 2.4 3.4]\n",
      " [5.3 3.9 4.9]]\n"
     ]
    }
   ],
   "source": [
    "output_1 = np.dot(inputs, weight_1.T) + bias_1\n",
    "print(output_1)"
   ]
  },
  {
   "cell_type": "code",
   "execution_count": 11,
   "metadata": {},
   "outputs": [
    {
     "name": "stdout",
     "output_type": "stream",
     "text": [
      "[[ 1.33  0.88  1.33]\n",
      " [ 1.48  0.28  1.48]\n",
      " [ 1.63 -0.32  1.63]]\n"
     ]
    }
   ],
   "source": [
    "output = np.dot(output_1, weight_2.T) + bias_2\n",
    "print(output)"
   ]
  }
 ],
 "metadata": {
  "kernelspec": {
   "display_name": "Python 3",
   "language": "python",
   "name": "python3"
  },
  "language_info": {
   "codemirror_mode": {
    "name": "ipython",
    "version": 3
   },
   "file_extension": ".py",
   "mimetype": "text/x-python",
   "name": "python",
   "nbconvert_exporter": "python",
   "pygments_lexer": "ipython3",
   "version": "3.12.6"
  }
 },
 "nbformat": 4,
 "nbformat_minor": 2
}
