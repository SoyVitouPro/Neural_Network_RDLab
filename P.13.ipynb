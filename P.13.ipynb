{
 "cells": [
  {
   "cell_type": "code",
   "execution_count": 6,
   "metadata": {},
   "outputs": [],
   "source": [
    "from nnfs.datasets import spiral_data\n",
    "import matplotlib.pyplot as plt\n",
    "import numpy as np\n",
    "import nnfs\n",
    "nnfs.init()"
   ]
  },
  {
   "cell_type": "code",
   "execution_count": 5,
   "metadata": {},
   "outputs": [],
   "source": [
    "X, y = spiral_data(samples=100, classes=3)"
   ]
  },
  {
   "cell_type": "code",
   "execution_count": 8,
   "metadata": {},
   "outputs": [],
   "source": [
    "class Layer_Dense:\n",
    "    def __init__(self, n_inputs, n_neurons):\n",
    "        # initialize weights and biases\n",
    "        self.weights = 0.01 * np.random.randn(n_inputs, n_neurons)\n",
    "        self.biases = np.zeros((1, n_neurons))\n",
    "    \n",
    "    # forward pass\n",
    "    def forward(self, inputs):\n",
    "        self.output = np.dot(inputs, self.weights) + self.biases"
   ]
  },
  {
   "cell_type": "code",
   "execution_count": 9,
   "metadata": {},
   "outputs": [],
   "source": [
    "# ReLU activation\n",
    "class Activation_ReLU:\n",
    "    # Forward pass\n",
    "    def forward ( self , inputs ):\n",
    "        # Calculate output values from inputs\n",
    "        self.output = np.maximum(0, inputs)\n",
    "\n",
    "class Activation_Softmax:\n",
    "\n",
    "    # forward pass\n",
    "    def forward(self, inputs):\n",
    "        # handle overflowing error\n",
    "        inputs = [np.subtract(input, np.max(input)) for input in inputs]\n",
    "        # calculate exponential values\n",
    "        ex_values = np.exp(inputs)\n",
    "        sum_ex_values = [np.sum(ex_value) for ex_value in ex_values] # option2: np.sum(ex_values, axis=1)\n",
    "        self.output = [ex_value / sum_ex_value for ex_value, sum_ex_value in zip(ex_values, sum_ex_values)]"
   ]
  },
  {
   "cell_type": "code",
   "execution_count": 12,
   "metadata": {},
   "outputs": [
    {
     "name": "stdout",
     "output_type": "stream",
     "text": [
      "[0.33333334 0.33333334 0.33333334]\n",
      "[0.33333334 0.33333334 0.33333334]\n",
      "[0.33333334 0.33333334 0.33333334]\n",
      "[0.33333355 0.33333328 0.33333316]\n",
      "[0.3333336  0.3333333  0.33333316]\n"
     ]
    }
   ],
   "source": [
    "dense_layer_1 = Layer_Dense(2, 3)\n",
    "activation_layer_1 = Activation_ReLU()\n",
    "dense_layer_2 = Layer_Dense(3, 3)\n",
    "activation_layer_2 = Activation_Softmax()\n",
    "\n",
    "dense_layer_1.forward(X)\n",
    "activation_layer_1.forward(dense_layer_1.output)\n",
    "dense_layer_2.forward(activation_layer_1.output)\n",
    "activation_layer_2.forward(dense_layer_2.output)\n",
    "\n",
    "for output in activation_layer_2.output[0:5]:\n",
    "    print(output)"
   ]
  }
 ],
 "metadata": {
  "kernelspec": {
   "display_name": "Python 3",
   "language": "python",
   "name": "python3"
  },
  "language_info": {
   "codemirror_mode": {
    "name": "ipython",
    "version": 3
   },
   "file_extension": ".py",
   "mimetype": "text/x-python",
   "name": "python",
   "nbconvert_exporter": "python",
   "pygments_lexer": "ipython3",
   "version": "3.12.6"
  }
 },
 "nbformat": 4,
 "nbformat_minor": 2
}
